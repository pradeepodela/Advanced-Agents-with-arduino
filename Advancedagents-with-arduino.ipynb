{
 "cells": [
  {
   "cell_type": "code",
   "execution_count": 1,
   "id": "3237c37a-8989-4584-a7f7-fbab20ab2222",
   "metadata": {},
   "outputs": [],
   "source": [
    "from langchain.agents import Tool, initialize_agent\n",
    "from langchain_groq import ChatGroq\n",
    "from langchain.tools import DuckDuckGoSearchRun\n",
    "from langchain.utilities import WikipediaAPIWrapper\n",
    "from langchain import LLMMathChain\n",
    "from langchain.chains import LLMChain\n",
    "from langchain.chains.conversation.memory import ConversationBufferWindowMemory\n",
    "import serial\n",
    "import serial.tools.list_ports\n",
    "import time\n",
    "import os\n",
    "from langchain.tools import tool\n",
    "from langchain_community.utilities.twilio import TwilioAPIWrapper\n",
    "from twilio.rest import Client"
   ]
  },
  {
   "cell_type": "code",
   "execution_count": 2,
   "id": "1b1c41d2-25be-49c7-9901-4961cebc4797",
   "metadata": {},
   "outputs": [],
   "source": [
    "llm =ChatGroq(groq_api_key='',\n",
    "             model_name=\"mixtral-8x7b-32768\") \n",
    "\n",
    "ACCOUNT_SID = ''\n",
    "AUTH_TOKEN = ''\n",
    "TWILIO_PHONE_NUMBER = os.getenv('TWILIO_PHONE_NUMBER', 'whatsapp:+14155238886')\n",
    "client = Client(ACCOUNT_SID, AUTH_TOKEN)"
   ]
  },
  {
   "cell_type": "code",
   "execution_count": 3,
   "id": "c558044e-8680-474d-bb60-771ead7a81bf",
   "metadata": {},
   "outputs": [],
   "source": [
    "conversational_memory = ConversationBufferWindowMemory(\n",
    "    memory_key='chat_history',\n",
    "    k=5,\n",
    "    return_messages=True\n",
    ")"
   ]
  },
  {
   "cell_type": "code",
   "execution_count": 4,
   "id": "8907d9e7-ed23-40f8-bfcd-e4a90ff5fcdc",
   "metadata": {},
   "outputs": [],
   "source": [
    "search = DuckDuckGoSearchRun()\n",
    "wikipedia = WikipediaAPIWrapper()\n",
    "\n",
    "\n",
    "# Web Search Tool\n",
    "search_tool = Tool(\n",
    "    name=\"Web Search\",\n",
    "    func=search.run,\n",
    "    description=\"A useful tool for searching the Internet to find information on world events, years, dates, issues, etc. Worth using for general topics. Use precise questions.\",\n",
    ")\n",
    "\n",
    "# Wikipedia Tool\n",
    "wikipedia_tool = Tool(\n",
    "    name=\"Wikipedia\",\n",
    "    func=wikipedia.run,\n",
    "    description=\"A useful tool for searching the Internet to find information on world events, issues, dates, years, etc. Worth using for general topics. Use precise questions.\",\n",
    ")\n",
    "\n",
    "\n",
    "from langchain import LLMMathChain\n",
    "\n",
    "#llm_math_chain = LLMMathChain(llm=llm, verbose=True) <- Deprecated !!!\n",
    "\n",
    "llm_math_chain = LLMMathChain.from_llm(llm=llm, verbose=True)\n",
    "math_tool = Tool.from_function(\n",
    "        func=llm_math_chain.run,\n",
    "        name=\"Calculator\",\n",
    "        description=\"Useful for when you need to answer questions about math. This tool is only for math questions and nothing else. Only input math expressions.\",\n",
    "    )\n",
    "\n",
    "\n",
    "def send_message(message):\n",
    "    try:\n",
    "        client.messages.create(\n",
    "            from_=TWILIO_PHONE_NUMBER,\n",
    "            body=message,\n",
    "            to='whatsapp:+919908293531'\n",
    "        )\n",
    "    except Exception as e:\n",
    "        logging.error(f\"Error sending message: {e}\")\n",
    "\n",
    "@tool\n",
    "def whatsappmessage_tool(command: str) -> str:\n",
    "    \"\"\"\n",
    "    A tool that allows to send you the message in whats app\n",
    "    :param command: A string of message that is to send it on whatapp \n",
    "    :return: A string describing the result.\n",
    "    \"\"\"\n",
    "    return send_message(command)\n",
    "\n",
    "whatsapp = Tool(\n",
    "        name=\"whatsapp\",\n",
    "        func=whatsappmessage_tool,\n",
    "        # description=\"Controls the Arduino LEDs. Use '1' for LED1 color is blue, '2' for LED2 color is green , '3' for LED3 color is white, and '0' to turn off all.\"\n",
    "        description=\"Useful for when you need to send WhatsApp message or share any data on WhatsApp\"\n",
    "    \n",
    "    )\n",
    "\n",
    "\n",
    "def control_arduino_led(command):\n",
    "    \"\"\"\n",
    "    Control Arduino LEDs by sending commands.\n",
    "    :param command: A string ('1', '2', '3' to turn on LEDs; '0' to turn off all)\n",
    "    :return: A string describing the result.\n",
    "    \"\"\"\n",
    "    try:\n",
    "        # Connect to Arduino\n",
    "        arduino = serial.Serial(port='/dev/cu.usbserial-2110', baudrate=9600)\n",
    "        time.sleep(2)  # Wait for connection to stabilize\n",
    "\n",
    "        # Validate command and send to Arduino\n",
    "        if command in ['0', '1', '2', '3']:\n",
    "            arduino.write(command.encode())\n",
    "            return f\"Sent command '{command}' to Arduino.\"\n",
    "        else:\n",
    "            return \"Invalid command. Please use '0', '1', '2', or '3'.\"\n",
    "\n",
    "    except Exception as e:\n",
    "        return f\"Error: {e}\"\n",
    "\n",
    "   \n",
    "\n",
    "\n",
    "\n",
    "@tool\n",
    "def control_led_tool(command: str) -> str:\n",
    "    \"\"\"\n",
    "    A tool that allows controlling an Arduino's LEDs via serial communication.\n",
    "    :param command: A string ('1', '2', '3' to turn on LEDs; '0' to turn off all)\n",
    "    :return: A string describing the result.\n",
    "    \"\"\"\n",
    "    return control_arduino_led(command)\n",
    "\n",
    "\n",
    "\n",
    "controll_led = Tool(\n",
    "        name=\"ControlLED\",\n",
    "        func=control_led_tool,\n",
    "        description=\"Controls the Arduino LEDs. Use '1' for LED1 color is blue, '2' for LED2 color is green , '3' for LED3 color is white, and '0' to turn off all.\"\n",
    "    )"
   ]
  },
  {
   "cell_type": "code",
   "execution_count": 5,
   "id": "8fe05506-07f9-4565-bc66-6a23c3cf64e2",
   "metadata": {},
   "outputs": [
    {
     "name": "stderr",
     "output_type": "stream",
     "text": [
      "/var/folders/cb/xyvfl9z12j94vsnkym5lznw80000gp/T/ipykernel_41428/1318111913.py:1: LangChainDeprecationWarning: The function `initialize_agent` was deprecated in LangChain 0.1.0 and will be removed in 0.3.0. Use Use new agent constructor methods like create_react_agent, create_json_agent, create_structured_chat_agent, etc. instead.\n",
      "  agent = initialize_agent(\n"
     ]
    }
   ],
   "source": [
    "agent = initialize_agent(\n",
    "    tools = [search_tool,wikipedia_tool,math_tool,controll_led,whatsapp],\n",
    "    llm=llm,\n",
    "    agent='chat-conversational-react-description',\n",
    "    verbose=True,  \n",
    "    max_iterations=3,\n",
    "    early_stopping_method='generate',\n",
    "    memory=conversational_memory,\n",
    "    handle_parsing_errors=True\n",
    ")"
   ]
  },
  {
   "cell_type": "code",
   "execution_count": 6,
   "id": "9bee3957-244e-4524-bab2-05946a5fc6b2",
   "metadata": {},
   "outputs": [],
   "source": [
    "query = \"now with this info compose an email to the founder pitching them to use zoho crm\"\n"
   ]
  },
  {
   "cell_type": "code",
   "execution_count": 7,
   "id": "7c07daa6-c4b3-4f34-a20b-3811ddf165f3",
   "metadata": {},
   "outputs": [
    {
     "name": "stderr",
     "output_type": "stream",
     "text": [
      "/var/folders/cb/xyvfl9z12j94vsnkym5lznw80000gp/T/ipykernel_41428/1170842329.py:1: LangChainDeprecationWarning: The method `Chain.run` was deprecated in langchain 0.1.0 and will be removed in 0.3.0. Use invoke instead.\n",
      "  res = agent.run(query)\n"
     ]
    },
    {
     "name": "stdout",
     "output_type": "stream",
     "text": [
      "\n",
      "\n",
      "\u001b[1m> Entering new AgentExecutor chain...\u001b[0m\n",
      "\u001b[32;1m\u001b[1;3m```json\n",
      "{\n",
      "    \"action\": \"Final Answer\",\n",
      "    \"action_input\": \"Subject: Exciting Opportunity with Zoho CRM\\n\\nDear Founder,\\n\\nI hope this email finds you well. I am writing to introduce you to Zoho CRM, a powerful and user-friendly customer relationship management tool that can help take your business to the next level. With features such as lead and contact management, sales pipeline tracking, and automation of repetitive tasks, Zoho CRM can help you streamline your sales and marketing processes and improve your overall efficiency. I would be happy to schedule a demo or provide more information. Please let me know if you are interested.\\n\\nBest regards,\\n[Your Name]\"\n",
      "}\n",
      "```\u001b[0m\n",
      "\n",
      "\u001b[1m> Finished chain.\u001b[0m\n"
     ]
    }
   ],
   "source": [
    "res = agent.run(query)\n"
   ]
  },
  {
   "cell_type": "code",
   "execution_count": 8,
   "id": "ca253b0a-2d41-4349-a191-38c1af0dd5ed",
   "metadata": {},
   "outputs": [
    {
     "data": {
      "text/plain": [
       "'Subject: Exciting Opportunity with Zoho CRM\\n\\nDear Founder,\\n\\nI hope this email finds you well. I am writing to introduce you to Zoho CRM, a powerful and user-friendly customer relationship management tool that can help take your business to the next level. With features such as lead and contact management, sales pipeline tracking, and automation of repetitive tasks, Zoho CRM can help you streamline your sales and marketing processes and improve your overall efficiency. I would be happy to schedule a demo or provide more information. Please let me know if you are interested.\\n\\nBest regards,\\n[Your Name]'"
      ]
     },
     "execution_count": 8,
     "metadata": {},
     "output_type": "execute_result"
    }
   ],
   "source": [
    "res"
   ]
  },
  {
   "cell_type": "code",
   "execution_count": null,
   "id": "81cb966b-5886-4e93-a44c-20003f5e07fd",
   "metadata": {},
   "outputs": [],
   "source": []
  }
 ],
 "metadata": {
  "kernelspec": {
   "display_name": "Python 3 (ipykernel)",
   "language": "python",
   "name": "python3"
  },
  "language_info": {
   "codemirror_mode": {
    "name": "ipython",
    "version": 3
   },
   "file_extension": ".py",
   "mimetype": "text/x-python",
   "name": "python",
   "nbconvert_exporter": "python",
   "pygments_lexer": "ipython3",
   "version": "3.9.19"
  }
 },
 "nbformat": 4,
 "nbformat_minor": 5
}
